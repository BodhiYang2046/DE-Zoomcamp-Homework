{
 "cells": [
  {
   "cell_type": "code",
   "execution_count": null,
   "id": "c621f440",
   "metadata": {},
   "outputs": [],
   "source": [
    "df = pd.read_csv('green_tripdata_2019-09.csv', low_memory=False)"
   ]
  },
  {
   "cell_type": "code",
   "execution_count": null,
   "id": "afdf721b",
   "metadata": {},
   "outputs": [],
   "source": [
    "df['lpep_pickup_datetime'] = df['lpep_pickup_datetime'].apply(lambda x:x[:10])\n",
    "df['lpep_dropoff_datetime'] = df['lpep_dropoff_datetime'].apply(lambda x:x[:10])"
   ]
  },
  {
   "cell_type": "code",
   "execution_count": null,
   "id": "11ffa860",
   "metadata": {},
   "outputs": [],
   "source": [
    "df[(df['lpep_pickup_datetime']=='2019-09-18') & (df['lpep_dropoff_datetime']=='2019-09-18')]"
   ]
  }
 ],
 "metadata": {
  "kernelspec": {
   "display_name": "Python 3 (ipykernel)",
   "language": "python",
   "name": "python3"
  },
  "language_info": {
   "codemirror_mode": {
    "name": "ipython",
    "version": 3
   },
   "file_extension": ".py",
   "mimetype": "text/x-python",
   "name": "python",
   "nbconvert_exporter": "python",
   "pygments_lexer": "ipython3",
   "version": "3.9.13"
  }
 },
 "nbformat": 4,
 "nbformat_minor": 5
}
